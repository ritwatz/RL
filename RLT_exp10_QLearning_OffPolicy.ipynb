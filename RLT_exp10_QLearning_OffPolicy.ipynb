{
  "nbformat": 4,
  "nbformat_minor": 0,
  "metadata": {
    "colab": {
      "provenance": []
    },
    "kernelspec": {
      "name": "python3",
      "display_name": "Python 3"
    },
    "language_info": {
      "name": "python"
    }
  },
  "cells": [
    {
      "cell_type": "markdown",
      "source": [
        "<h1>Ritwatz Raj"
      ],
      "metadata": {
        "id": "Gv50kSsMRBxv"
      }
    },
    {
      "cell_type": "code",
      "execution_count": null,
      "metadata": {
        "colab": {
          "base_uri": "https://localhost:8080/"
        },
        "id": "6tz0-_uNMrMW",
        "outputId": "071e5473-980e-4a77-c03d-357f8999c2a7"
      },
      "outputs": [
        {
          "output_type": "stream",
          "name": "stdout",
          "text": [
            "Q-values after Q-Learning:\n",
            "[[21.1744544  17.41962308]\n",
            " [23.68421053 23.68421053]\n",
            " [26.31578947 19.31947   ]]\n"
          ]
        }
      ],
      "source": [
        "import numpy as np\n",
        "\n",
        "class Environment:\n",
        "    def __init__(self):\n",
        "        self.num_states = 3\n",
        "        self.num_actions = 2\n",
        "        self.transition_probs = np.array([[[0.5, 0.5, 0.0], [1.0, 0.0, 0.0]],\n",
        "                                          [[0.0, 0.0, 1.0], [0.0, 0.0, 1.0]],\n",
        "                                          [[0.0, 1.0, 0.0], [0.5, 0.5, 0.0]]])\n",
        "        self.rewards = np.array([[1.0, 2.0], [0.0, 0.0], [5.0, -1.0]])\n",
        "\n",
        "class QLearning:\n",
        "    def __init__(self, env, alpha=0.1, epsilon=0.1, discount_factor=0.9):\n",
        "        self.env = env\n",
        "        self.Q = np.zeros((env.num_states, env.num_actions))\n",
        "        self.alpha = alpha\n",
        "        self.epsilon = epsilon\n",
        "        self.discount_factor = discount_factor\n",
        "\n",
        "    def choose_action(self, state):\n",
        "        if np.random.rand() < self.epsilon:\n",
        "            return np.random.choice(self.env.num_actions)\n",
        "        else:\n",
        "            return np.argmax(self.Q[state])\n",
        "\n",
        "    def update(self, state, action, reward, next_state):\n",
        "        next_action = np.argmax(self.Q[next_state])\n",
        "        td_target = reward + self.discount_factor * self.Q[next_state, next_action]\n",
        "        td_error = td_target - self.Q[state, action]\n",
        "        self.Q[state, action] += self.alpha * td_error\n",
        "\n",
        "# Example usage of Q-Learning\n",
        "env = Environment()\n",
        "q_learning = QLearning(env)\n",
        "num_episodes = 1000\n",
        "for _ in range(num_episodes):\n",
        "    state = np.random.randint(env.num_states)\n",
        "    while True:\n",
        "        action = q_learning.choose_action(state)\n",
        "        next_state = np.random.choice(env.num_states, p=env.transition_probs[state, action])\n",
        "        reward = env.rewards[state, action]\n",
        "        q_learning.update(state, action, reward, next_state)\n",
        "        if next_state == 0:\n",
        "            break\n",
        "        state = next_state\n",
        "print(\"Q-values after Q-Learning:\")\n",
        "print(q_learning.Q)\n"
      ]
    }
  ]
}
{
  "nbformat": 4,
  "nbformat_minor": 0,
  "metadata": {
    "colab": {
      "provenance": []
    },
    "kernelspec": {
      "name": "python3",
      "display_name": "Python 3"
    },
    "language_info": {
      "name": "python"
    }
  },
  "cells": [
    {
      "cell_type": "code",
      "execution_count": null,
      "metadata": {
        "colab": {
          "base_uri": "https://localhost:8080/"
        },
        "id": "Q6MEU36XIUw5",
        "outputId": "d073acf0-a456-4d0f-c7a5-7e76a3f261f9"
      },
      "outputs": [
        {
          "output_type": "stream",
          "name": "stdout",
          "text": [
            "Optimal Value Function: {1: -2.6720074413196286, 2: -1.9432847688029105, 3: -0.8822035319541259}\n",
            "Optimal Policy: {1: 'right', 2: 'right', 3: 'left'}\n"
          ]
        }
      ],
      "source": [
        "# Pseudo code for Value Iteration\n",
        "def value_iteration(states, actions, transition_probabilities, rewards, discount_factor, epsilon):\n",
        "    V = {state: 0 for state in states}\n",
        "\n",
        "    while True:\n",
        "        delta = 0\n",
        "        for state in states:\n",
        "            v = V[state]\n",
        "            V[state] = max(sum(transition_probabilities[state][action][next_state] * (rewards[state][action][next_state] + discount_factor * V[next_state]) for next_state in states) for action in actions)\n",
        "            delta = max(delta, abs(v - V[state]))\n",
        "\n",
        "        if delta < epsilon:\n",
        "            break\n",
        "\n",
        "    return V\n",
        "\n",
        "# Pseudo code for Policy Iteration\n",
        "def policy_iteration(states, actions, transition_probabilities, rewards, discount_factor, epsilon):\n",
        "    policy = {state: actions[0] for state in states}\n",
        "\n",
        "    while True:\n",
        "        V = policy_evaluation(policy, states, actions, transition_probabilities, rewards, discount_factor, epsilon)\n",
        "        policy_stable = True\n",
        "\n",
        "        for state in states:\n",
        "            old_action = policy[state]\n",
        "            policy[state] = max(actions, key=lambda a: sum(transition_probabilities[state][a][next_state] * (rewards[state][a][next_state] + discount_factor * V[next_state]) for next_state in states))\n",
        "\n",
        "            if old_action != policy[state]:\n",
        "                policy_stable = False\n",
        "\n",
        "        if policy_stable:\n",
        "            break\n",
        "\n",
        "    return policy\n",
        "\n",
        "def policy_evaluation(policy, states, actions, transition_probabilities, rewards, discount_factor, epsilon):\n",
        "    V = {state: 0 for state in states}\n",
        "\n",
        "    while True:\n",
        "        delta = 0\n",
        "        for state in states:\n",
        "            v = V[state]\n",
        "            action = policy[state]\n",
        "            V[state] = sum(transition_probabilities[state][action][next_state] * (rewards[state][action][next_state] + discount_factor * V[next_state]) for next_state in states)\n",
        "            delta = max(delta, abs(v - V[state]))\n",
        "\n",
        "        if delta < epsilon:\n",
        "            break\n",
        "\n",
        "    return V\n",
        "\n",
        "# Example usage\n",
        "states = [1, 2, 3]\n",
        "actions = ['left', 'right']\n",
        "transition_probabilities = {\n",
        "    1: {'left': {1: 0.8, 2: 0.2}, 'right': {1: 0.2, 2: 0.8}},\n",
        "    2: {'left': {1: 0.2, 2: 0.8, 3: 0.1}, 'right': {1: 0.1, 2: 0.1, 3: 0.8}},\n",
        "    3: {'left': {2: 0.1, 3: 0.9}, 'right': {2: 0.9, 3: 0.1}}\n",
        "}\n",
        "rewards = {\n",
        "    1: {'left': {1: -1, 2: 0}, 'right': {1: 0, 2: -1}},\n",
        "    2: {'left': {1: -1, 2: 0, 3: 1}, 'right': {1: 0, 2: -1, 3: -1}},\n",
        "    3: {'left': {1: 0, 2: 0, 3: 0}, 'right': {1: 0, 2: 0, 3: 0}}\n",
        "}\n",
        "discount_factor = 0.9\n",
        "epsilon = 0.01\n",
        "\n",
        "# Ensure all state-action pairs have associated transition probabilities and rewards\n",
        "for state in states:\n",
        "    for action in actions:\n",
        "        for next_state in states:\n",
        "            if next_state not in transition_probabilities[state][action]:\n",
        "                transition_probabilities[state][action][next_state] = 0.0\n",
        "            if next_state not in rewards[state][action]:\n",
        "                rewards[state][action][next_state] = 0.0\n",
        "\n",
        "optimal_value_function = value_iteration(states, actions, transition_probabilities, rewards, discount_factor, epsilon)\n",
        "print(\"Optimal Value Function:\", optimal_value_function)\n",
        "\n",
        "optimal_policy = policy_iteration(states, actions, transition_probabilities, rewards, discount_factor, epsilon)\n",
        "print(\"Optimal Policy:\", optimal_policy)\n"
      ]
    }
  ]
}
{
  "nbformat": 4,
  "nbformat_minor": 0,
  "metadata": {
    "colab": {
      "provenance": [],
      "gpuType": "T4"
    },
    "kernelspec": {
      "name": "python3",
      "display_name": "Python 3"
    },
    "language_info": {
      "name": "python"
    },
    "accelerator": "GPU"
  },
  "cells": [
    {
      "cell_type": "code",
      "source": [
        "#Ritwatz Raj\n",
        "#RA2111047010130"
      ],
      "metadata": {
        "colab": {
          "base_uri": "https://localhost:8080/"
        },
        "id": "IqXRudRwXvjP",
        "outputId": "fdad71bd-20cb-4b89-ca7e-8806560f3d30"
      },
      "execution_count": null,
      "outputs": [
        {
          "output_type": "stream",
          "name": "stderr",
          "text": [
            "/usr/local/lib/python3.10/dist-packages/ipykernel/ipkernel.py:283: DeprecationWarning: `should_run_async` will not call `transform_cell` automatically in the future. Please pass the result to `transformed_cell` argument and any exception that happen during thetransform in `preprocessing_exc_tuple` in IPython 7.17 and above.\n",
            "  and should_run_async(code)\n"
          ]
        }
      ]
    },
    {
      "cell_type": "code",
      "execution_count": null,
      "metadata": {
        "colab": {
          "base_uri": "https://localhost:8080/"
        },
        "id": "geVccN4aTZYu",
        "outputId": "ccacc7c6-f834-4966-ae88-c0a96f6ce5bf"
      },
      "outputs": [
        {
          "output_type": "stream",
          "name": "stdout",
          "text": [
            "Optimal Policy:\n",
            "[[0. 1.]\n",
            " [1. 0.]\n",
            " [1. 0.]]\n",
            "\n",
            "Optimal Value Function:\n",
            "[42.44185624 36.04650774 38.19767062]\n"
          ]
        }
      ],
      "source": [
        "import numpy as np\n",
        "\n",
        "# Define the environment\n",
        "num_states = 3\n",
        "num_actions = 2\n",
        "gamma = 0.9\n",
        "\n",
        "# Define the transition probabilities\n",
        "# P[state, action, next_state] = probability\n",
        "P = np.array([\n",
        "    [[0.7, 0.3, 0.0], [0.0, 1.0, 0.0]],\n",
        "    [[0.8, 0.2, 0.0], [0.4, 0.4, 0.2]],\n",
        "    [[1.0, 0.0, 0.0], [0.0, 0.0, 1.0]]\n",
        "])\n",
        "\n",
        "# Define the rewards\n",
        "# R[state, action] = reward\n",
        "R = np.array([\n",
        "    [-1, 10],\n",
        "    [-1, -1],\n",
        "    [0, -1]\n",
        "])\n",
        "\n",
        "# Random policy\n",
        "policy = np.array([[0.5, 0.5], [0.5, 0.5], [0.5, 0.5]])\n",
        "\n",
        "def policy_evaluation(policy, P, R, gamma=0.9, theta=1e-6):\n",
        "    V = np.zeros(num_states)\n",
        "    while True:\n",
        "        delta = 0\n",
        "        for s in range(num_states):\n",
        "            v = V[s]\n",
        "            V[s] = sum(policy[s, a] * sum(P[s, a, s1] * (R[s, a] + gamma * V[s1]) for s1 in range(num_states)) for a in range(num_actions))\n",
        "            delta = max(delta, abs(v - V[s]))\n",
        "        if delta < theta:\n",
        "            break\n",
        "    return V\n",
        "\n",
        "def policy_iteration(P, R, gamma=0.9, theta=1e-6):\n",
        "    policy = np.ones((num_states, num_actions)) / num_actions\n",
        "    while True:\n",
        "        V = policy_evaluation(policy, P, R, gamma, theta)\n",
        "        policy_stable = True\n",
        "        for s in range(num_states):\n",
        "            old_action = np.argmax(policy[s])\n",
        "            new_action = np.argmax([sum(P[s, a, s1] * (R[s, a] + gamma * V[s1]) for s1 in range(num_states)) for a in range(num_actions)])\n",
        "            if old_action != new_action:\n",
        "                policy_stable = False\n",
        "            policy[s] = np.eye(num_actions)[new_action]\n",
        "        if policy_stable:\n",
        "            break\n",
        "    return policy, V\n",
        "\n",
        "# Perform policy iteration\n",
        "policy_optimal, V_optimal = policy_iteration(P, R, gamma)\n",
        "\n",
        "print(\"Optimal Policy:\")\n",
        "print(policy_optimal)\n",
        "print(\"\\nOptimal Value Function:\")\n",
        "print(V_optimal)"
      ]
    }
  ]
}